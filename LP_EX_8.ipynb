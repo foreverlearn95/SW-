{
 "cells": [
  {
   "cell_type": "code",
   "execution_count": 1,
   "metadata": {},
   "outputs": [],
   "source": [
    "import cvxpy as cp"
   ]
  },
  {
   "cell_type": "code",
   "execution_count": 2,
   "metadata": {},
   "outputs": [],
   "source": [
    "x1 = cp.Variable()\n",
    "x2 = cp.Variable()\n",
    "x3 = cp.Variable()\n",
    "x4 = cp.Variable()\n",
    "x5 = cp.Variable()"
   ]
  },
  {
   "cell_type": "code",
   "execution_count": 3,
   "metadata": {},
   "outputs": [],
   "source": [
    "obj_fnc = cp.Maximize(7*x1+14*x2+6*x3+10*x4-3*x5)\n",
    "const = [x5<=4000, 3*x2+2*x4+x5<=6000, x1+x2-3*x5==0, x3+x4-4*x5==0, x1>=0, x2>=0, x3>=0, x4>=0, x5>=0]"
   ]
  },
  {
   "cell_type": "code",
   "execution_count": 4,
   "metadata": {},
   "outputs": [],
   "source": [
    "prob = cp.Problem(obj_fnc, const)"
   ]
  },
  {
   "cell_type": "code",
   "execution_count": 5,
   "metadata": {},
   "outputs": [
    {
     "data": {
      "text/plain": [
       "172666.6666666667"
      ]
     },
     "execution_count": 5,
     "metadata": {},
     "output_type": "execute_result"
    }
   ],
   "source": [
    "prob.solve(solver=cp.CPLEX)"
   ]
  },
  {
   "cell_type": "code",
   "execution_count": 6,
   "metadata": {},
   "outputs": [
    {
     "name": "stdout",
     "output_type": "stream",
     "text": [
      "The optimal value is 172666.6666666667\n",
      "The optimal x1 is 11333.333333333334\n",
      "The optimal x2 is 666.6666666666667\n",
      "The optimal x3 is 16000.0\n",
      "The optimal x4 is 0.0\n",
      "The optimal x5 is 4000.0\n"
     ]
    }
   ],
   "source": [
    "print(\"The optimal value is\", prob.value)\n",
    "print(\"The optimal x1 is\", x1.value)\n",
    "print(\"The optimal x2 is\", x2.value)\n",
    "print(\"The optimal x3 is\", x3.value)\n",
    "print(\"The optimal x4 is\", x4.value)\n",
    "print(\"The optimal x5 is\", x5.value)"
   ]
  },
  {
   "cell_type": "code",
   "execution_count": null,
   "metadata": {},
   "outputs": [],
   "source": []
  }
 ],
 "metadata": {
  "kernelspec": {
   "display_name": "Python 3",
   "language": "python",
   "name": "python3"
  },
  "language_info": {
   "codemirror_mode": {
    "name": "ipython",
    "version": 3
   },
   "file_extension": ".py",
   "mimetype": "text/x-python",
   "name": "python",
   "nbconvert_exporter": "python",
   "pygments_lexer": "ipython3",
   "version": "3.6.10"
  }
 },
 "nbformat": 4,
 "nbformat_minor": 4
}
