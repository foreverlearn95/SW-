{
 "cells": [
  {
   "cell_type": "code",
   "execution_count": 2,
   "metadata": {},
   "outputs": [],
   "source": [
    "import cvxpy as cp"
   ]
  },
  {
   "cell_type": "code",
   "execution_count": 3,
   "metadata": {},
   "outputs": [],
   "source": [
    "x11 = cp.Variable()\n",
    "x12 = cp.Variable()\n",
    "x21 = cp.Variable()\n",
    "x22 = cp.Variable()"
   ]
  },
  {
   "cell_type": "code",
   "execution_count": 4,
   "metadata": {},
   "outputs": [],
   "source": [
    "obj_fnc = cp.Maximize(15*x11+20*x12+11*x21+16*x22)"
   ]
  },
  {
   "cell_type": "code",
   "execution_count": 5,
   "metadata": {},
   "outputs": [],
   "source": [
    "cons = [x11 + x12 <= 70000, x21 + x22 <= 60000, x11 + x21 <= 60000, x11 + x21 <= 80000, x12 + x22 >= 15000, x12 + x22 <= 40000]"
   ]
  },
  {
   "cell_type": "code",
   "execution_count": 6,
   "metadata": {},
   "outputs": [
    {
     "data": {
      "text/plain": [
       "1580000.0"
      ]
     },
     "execution_count": 6,
     "metadata": {},
     "output_type": "execute_result"
    }
   ],
   "source": [
    "prob = cp.Problem(obj_fnc, cons)\n",
    "prob.solve(solver=cp.CPLEX)"
   ]
  },
  {
   "cell_type": "code",
   "execution_count": 7,
   "metadata": {},
   "outputs": [
    {
     "name": "stdout",
     "output_type": "stream",
     "text": [
      "The optimal value is  1580000.0\n",
      "The optimal x11 is 60000.0\n",
      "The optimal x11 is 10000.0\n",
      "The optimal x11 is 0.0\n",
      "The optimal x11 is 30000.0\n"
     ]
    }
   ],
   "source": [
    "print(\"The optimal value is \", prob.value)\n",
    "print(\"The optimal x11 is\", x11.value)\n",
    "print(\"The optimal x11 is\", x12.value)\n",
    "print(\"The optimal x11 is\", x21.value)\n",
    "print(\"The optimal x11 is\", x22.value)"
   ]
  },
  {
   "cell_type": "code",
   "execution_count": null,
   "metadata": {},
   "outputs": [],
   "source": []
  }
 ],
 "metadata": {
  "kernelspec": {
   "display_name": "Python 3",
   "language": "python",
   "name": "python3"
  },
  "language_info": {
   "codemirror_mode": {
    "name": "ipython",
    "version": 3
   },
   "file_extension": ".py",
   "mimetype": "text/x-python",
   "name": "python",
   "nbconvert_exporter": "python",
   "pygments_lexer": "ipython3",
   "version": "3.6.10"
  }
 },
 "nbformat": 4,
 "nbformat_minor": 4
}
