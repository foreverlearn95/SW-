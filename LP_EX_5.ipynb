{
 "cells": [
  {
   "cell_type": "code",
   "execution_count": 1,
   "metadata": {},
   "outputs": [],
   "source": [
    "import cvxpy as cp"
   ]
  },
  {
   "cell_type": "code",
   "execution_count": 2,
   "metadata": {},
   "outputs": [],
   "source": [
    "x1 = cp.Variable()\n",
    "x2 = cp.Variable()\n",
    "x3 = cp.Variable()\n",
    "x4 = cp.Variable()\n",
    "y2 = cp.Variable()\n",
    "y3 = cp.Variable()\n",
    "w1 = cp.Variable()\n",
    "w2 = cp.Variable()\n",
    "w3 = cp.Variable()"
   ]
  },
  {
   "cell_type": "code",
   "execution_count": 3,
   "metadata": {},
   "outputs": [],
   "source": [
    "obj_fnc = cp.Minimize(12*x1 + 12*x2 + 14*x3 + 14*x4 + 16*y2 + 18*y3 + 3*w1 + 3*w2 + 3*w3)\n",
    "const = [x1==400+w1, x2+y2+w1==750+w2, x3+y3+w2==950+w3, x4+w3==900, x1<=800, x2<=800, x3<=800, x4<=800, y2<=200, y3<=200, w1<=100, w2<=100, w3<=100, \n",
    "         x1>=0, x2>=0, x3>=0, x4>=0, y2>=0, y3>=0, w1>=0, w2>=0, w3>=0]"
   ]
  },
  {
   "cell_type": "code",
   "execution_count": 4,
   "metadata": {},
   "outputs": [],
   "source": [
    "prob = cp.Problem(obj_fnc, const)"
   ]
  },
  {
   "cell_type": "code",
   "execution_count": 5,
   "metadata": {},
   "outputs": [
    {
     "data": {
      "text/plain": [
       "40850.0"
      ]
     },
     "execution_count": 5,
     "metadata": {},
     "output_type": "execute_result"
    }
   ],
   "source": [
    "prob.solve(solver = cp.CPLEX)"
   ]
  },
  {
   "cell_type": "code",
   "execution_count": 6,
   "metadata": {},
   "outputs": [
    {
     "name": "stdout",
     "output_type": "stream",
     "text": [
      "The optimal value is 40850.0\n",
      "The optimal x1 is 400.0\n",
      "The optimal x2 is 800.0\n",
      "The optimal x3 is 800.0\n",
      "The optimal x4 is 800.0\n",
      "The optimal y2 is 0.0\n",
      "The optimal y3 is 200.0\n",
      "The optimal w1 is 0.0\n",
      "The optimal w2 is 50.0\n",
      "The optimal w3 is 100.0\n"
     ]
    }
   ],
   "source": [
    "print(\"The optimal value is\", prob.value)\n",
    "print(\"The optimal x1 is\", x1.value)\n",
    "print(\"The optimal x2 is\", x2.value)\n",
    "print(\"The optimal x3 is\", x3.value)\n",
    "print(\"The optimal x4 is\", x4.value)\n",
    "print(\"The optimal y2 is\", y2.value)\n",
    "print(\"The optimal y3 is\", y3.value)\n",
    "print(\"The optimal w1 is\", w1.value)\n",
    "print(\"The optimal w2 is\", w2.value)\n",
    "print(\"The optimal w3 is\", w3.value)"
   ]
  },
  {
   "cell_type": "code",
   "execution_count": null,
   "metadata": {},
   "outputs": [],
   "source": []
  }
 ],
 "metadata": {
  "kernelspec": {
   "display_name": "Python 3",
   "language": "python",
   "name": "python3"
  },
  "language_info": {
   "codemirror_mode": {
    "name": "ipython",
    "version": 3
   },
   "file_extension": ".py",
   "mimetype": "text/x-python",
   "name": "python",
   "nbconvert_exporter": "python",
   "pygments_lexer": "ipython3",
   "version": "3.6.10"
  }
 },
 "nbformat": 4,
 "nbformat_minor": 4
}
