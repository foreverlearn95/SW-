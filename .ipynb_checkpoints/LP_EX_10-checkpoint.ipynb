{
 "cells": [
  {
   "cell_type": "code",
   "execution_count": 1,
   "metadata": {},
   "outputs": [],
   "source": [
    "import cvxpy as cp"
   ]
  },
  {
   "cell_type": "code",
   "execution_count": 2,
   "metadata": {},
   "outputs": [],
   "source": [
    "x11 = cp.Variable(integer=True)\n",
    "x12 = cp.Variable(integer=True)\n",
    "x13 = cp.Variable(integer=True)\n",
    "x14 = cp.Variable(integer=True)\n",
    "x21 = cp.Variable(integer=True)\n",
    "x22 = cp.Variable(integer=True)\n",
    "x23 = cp.Variable(integer=True)\n",
    "x24 = cp.Variable(integer=True)\n",
    "x31 = cp.Variable(integer=True)\n",
    "x32 = cp.Variable(integer=True)\n",
    "x33 = cp.Variable(integer=True)\n",
    "x34 = cp.Variable(integer=True)\n",
    "s1 = cp.Variable(integer=True)\n",
    "s2 = cp.Variable(integer=True)\n",
    "s3 = cp.Variable(integer=True)\n",
    "s4 = cp.Variable(integer=True)"
   ]
  },
  {
   "cell_type": "code",
   "execution_count": 3,
   "metadata": {},
   "outputs": [],
   "source": [
    "obj_fnc = cp.Minimize(3000*x11 + 2200*x12 + 2400*x13 + 1500*x14 + 3200*x21 + 2700*x22 + 3000*x23 + 2000*x24 + 3000*x31 + 4000*x32 + 3200*x33 + 1800*x34 + 40*s1 + 50*s2 + 45*s3 + 70*s4)\n",
    "const = [150*x11+120*x21+100*x31+s1>=100, 100*x12+90*x22+100*x32+s2>=200, 100*x13+90*x23+80*x33+s3>=90, 50*x14+60*x24+40*x34+s4>=120,\n",
    "        x11+x12+x13+x14<=5, x21+x22+x23+x24<=8, x31+x32+x33+x34<=10, \n",
    "        x11>=0, x12>=0, x13>=0, x14>=0, x21>=0, x22>=0, x23>=0, x24>=0, x31>=0, x32>=0, x33>=0, x34>=0, s1>=0, s2>=0, s3>=0, s4>=0]"
   ]
  },
  {
   "cell_type": "code",
   "execution_count": 4,
   "metadata": {},
   "outputs": [],
   "source": [
    "prob = cp.Problem(obj_fnc, const)"
   ]
  },
  {
   "cell_type": "code",
   "execution_count": 5,
   "metadata": {},
   "outputs": [
    {
     "data": {
      "text/plain": [
       "13800.0"
      ]
     },
     "execution_count": 5,
     "metadata": {},
     "output_type": "execute_result"
    }
   ],
   "source": [
    "prob.solve(solver=cp.CPLEX)"
   ]
  },
  {
   "cell_type": "code",
   "execution_count": 6,
   "metadata": {},
   "outputs": [
    {
     "name": "stdout",
     "output_type": "stream",
     "text": [
      "The optimal value is 13800.0\n",
      "\n",
      "The optimal x11 is 1.0\n",
      "The optimal x12 is 2.0\n",
      "The optimal x13 is 1.0\n",
      "The optimal x14 is 0.0\n",
      "The optimal x21 is 0.0\n",
      "The optimal x22 is 0.0\n",
      "The optimal x23 is 0.0\n",
      "The optimal x24 is 2.0\n",
      "The optimal x31 is 0.0\n",
      "The optimal x32 is 0.0\n",
      "The optimal x33 is 0.0\n",
      "The optimal x34 is 0.0\n",
      "\n",
      "The optimal s1 is 0.0\n",
      "The optimal s2 is 0.0\n",
      "The optimal s3 is 0.0\n",
      "The optimal s4 is 0.0\n"
     ]
    }
   ],
   "source": [
    "print(\"The optimal value is\", prob.value)\n",
    "print(\"\\nThe optimal x11 is\", x11.value)\n",
    "print(\"The optimal x12 is\", x12.value)\n",
    "print(\"The optimal x13 is\", x13.value)\n",
    "print(\"The optimal x14 is\", x14.value)\n",
    "print(\"The optimal x21 is\", x21.value)\n",
    "print(\"The optimal x22 is\", x22.value)\n",
    "print(\"The optimal x23 is\", x23.value)\n",
    "print(\"The optimal x24 is\", x24.value)\n",
    "print(\"The optimal x31 is\", x31.value)\n",
    "print(\"The optimal x32 is\", x32.value)\n",
    "print(\"The optimal x33 is\", x33.value)\n",
    "print(\"The optimal x34 is\", x34.value)\n",
    "print(\"\\nThe optimal s1 is\", s1.value)\n",
    "print(\"The optimal s2 is\", s2.value)\n",
    "print(\"The optimal s3 is\", s3.value)\n",
    "print(\"The optimal s4 is\", s4.value)"
   ]
  },
  {
   "cell_type": "code",
   "execution_count": null,
   "metadata": {},
   "outputs": [],
   "source": []
  }
 ],
 "metadata": {
  "kernelspec": {
   "display_name": "Python 3",
   "language": "python",
   "name": "python3"
  },
  "language_info": {
   "codemirror_mode": {
    "name": "ipython",
    "version": 3
   },
   "file_extension": ".py",
   "mimetype": "text/x-python",
   "name": "python",
   "nbconvert_exporter": "python",
   "pygments_lexer": "ipython3",
   "version": "3.6.10"
  }
 },
 "nbformat": 4,
 "nbformat_minor": 4
}
